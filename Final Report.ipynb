{
  "nbformat": 4,
  "nbformat_minor": 0,
  "metadata": {
    "colab": {
      "provenance": [],
      "authorship_tag": "ABX9TyPLz/bpg3X2XQPVkY01ZHGs",
      "include_colab_link": true
    },
    "kernelspec": {
      "name": "python3",
      "display_name": "Python 3"
    },
    "language_info": {
      "name": "python"
    }
  },
  "cells": [
    {
      "cell_type": "markdown",
      "metadata": {
        "id": "view-in-github",
        "colab_type": "text"
      },
      "source": [
        "<a href=\"https://colab.research.google.com/github/fju410290051/fin_data/blob/main/Final%20Report.ipynb\" target=\"_parent\"><img src=\"https://colab.research.google.com/assets/colab-badge.svg\" alt=\"Open In Colab\"/></a>"
      ]
    },
    {
      "cell_type": "code",
      "execution_count": 1,
      "metadata": {
        "colab": {
          "base_uri": "https://localhost:8080/",
          "height": 366
        },
        "id": "wXv33fW9G7ba",
        "outputId": "19a88599-a54f-427e-8929-f63ae9cba07b"
      },
      "outputs": [
        {
          "output_type": "execute_result",
          "data": {
            "text/plain": [
              "                    YYYY/MM  Quarter consolidation  Month Currency  \\\n",
              "CO_ID                                                                \n",
              "1201 WEI CHUAN      2023/12        4             Y     12      NTD   \n",
              "1216 Uni-President  2023/12        4             Y     12      NTD   \n",
              "\n",
              "                    Total cash and cash equivalents  \\\n",
              "CO_ID                                                 \n",
              "1201 WEI CHUAN                            1667471.0   \n",
              "1216 Uni-President                      100855846.0   \n",
              "\n",
              "                    Total current financial assets at fair value through profit or loss  \\\n",
              "CO_ID                                                                                     \n",
              "1201 WEI CHUAN                                               269087.0                     \n",
              "1216 Uni-President                                         10324562.0                     \n",
              "\n",
              "                    Financial assets at fair value through other comprehensive income - Current  \\\n",
              "CO_ID                                                                                             \n",
              "1201 WEI CHUAN                                                    0.0                             \n",
              "1216 Uni-President                                                0.0                             \n",
              "\n",
              "                    Financial assets measured at amortized cost - Current  \\\n",
              "CO_ID                                                                       \n",
              "1201 WEI CHUAN                                                    0.0       \n",
              "1216 Uni-President                                         16924454.0       \n",
              "\n",
              "                    Current financial assets for hedging  ...  \\\n",
              "CO_ID                                                     ...   \n",
              "1201 WEI CHUAN                                       0.0  ...   \n",
              "1216 Uni-President                                   0.0  ...   \n",
              "\n",
              "                    Other equity - unearned compensation  \\\n",
              "CO_ID                                                      \n",
              "1201 WEI CHUAN                                       0.0   \n",
              "1216 Uni-President                                   0.0   \n",
              "\n",
              "                    Other equity, others  Total other equity interest  \\\n",
              "CO_ID                                                                   \n",
              "1201 WEI CHUAN                       0.0                    -274237.0   \n",
              "1216 Uni-President                   0.0                   -5789586.0   \n",
              "\n",
              "                    Treasury shares  \\\n",
              "CO_ID                                 \n",
              "1201 WEI CHUAN                  0.0   \n",
              "1216 Uni-President              0.0   \n",
              "\n",
              "                    Total equity attributable to owners of parent  \\\n",
              "CO_ID                                                               \n",
              "1201 WEI CHUAN                                          7283944.0   \n",
              "1216 Uni-President                                    124887732.0   \n",
              "\n",
              "                    Interests in the former associate or jointly controlled entity  \\\n",
              "CO_ID                                                                                \n",
              "1201 WEI CHUAN                                                    0.0                \n",
              "1216 Uni-President                                                0.0                \n",
              "\n",
              "                    Non-controlling interest in pre-acquisition share capital  \\\n",
              "CO_ID                                                                           \n",
              "1201 WEI CHUAN                                                    0.0           \n",
              "1216 Uni-President                                                0.0           \n",
              "\n",
              "                    Non-controlling interests  Total equity  \\\n",
              "CO_ID                                                         \n",
              "1201 WEI CHUAN                         8056.0     7292000.0   \n",
              "1216 Uni-President                 70326596.0   195214328.0   \n",
              "\n",
              "                    Total liabilities & equity  \n",
              "CO_ID                                           \n",
              "1201 WEI CHUAN                      18027715.0  \n",
              "1216 Uni-President                 665879318.0  \n",
              "\n",
              "[2 rows x 111 columns]"
            ],
            "text/html": [
              "\n",
              "  <div id=\"df-eeed67a9-7f93-4b68-85b7-55c49750ef3d\" class=\"colab-df-container\">\n",
              "    <div>\n",
              "<style scoped>\n",
              "    .dataframe tbody tr th:only-of-type {\n",
              "        vertical-align: middle;\n",
              "    }\n",
              "\n",
              "    .dataframe tbody tr th {\n",
              "        vertical-align: top;\n",
              "    }\n",
              "\n",
              "    .dataframe thead th {\n",
              "        text-align: right;\n",
              "    }\n",
              "</style>\n",
              "<table border=\"1\" class=\"dataframe\">\n",
              "  <thead>\n",
              "    <tr style=\"text-align: right;\">\n",
              "      <th></th>\n",
              "      <th>YYYY/MM</th>\n",
              "      <th>Quarter</th>\n",
              "      <th>consolidation</th>\n",
              "      <th>Month</th>\n",
              "      <th>Currency</th>\n",
              "      <th>Total cash and cash equivalents</th>\n",
              "      <th>Total current financial assets at fair value through profit or loss</th>\n",
              "      <th>Financial assets at fair value through other comprehensive income - Current</th>\n",
              "      <th>Financial assets measured at amortized cost - Current</th>\n",
              "      <th>Current financial assets for hedging</th>\n",
              "      <th>...</th>\n",
              "      <th>Other equity - unearned compensation</th>\n",
              "      <th>Other equity, others</th>\n",
              "      <th>Total other equity interest</th>\n",
              "      <th>Treasury shares</th>\n",
              "      <th>Total equity attributable to owners of parent</th>\n",
              "      <th>Interests in the former associate or jointly controlled entity</th>\n",
              "      <th>Non-controlling interest in pre-acquisition share capital</th>\n",
              "      <th>Non-controlling interests</th>\n",
              "      <th>Total equity</th>\n",
              "      <th>Total liabilities &amp; equity</th>\n",
              "    </tr>\n",
              "    <tr>\n",
              "      <th>CO_ID</th>\n",
              "      <th></th>\n",
              "      <th></th>\n",
              "      <th></th>\n",
              "      <th></th>\n",
              "      <th></th>\n",
              "      <th></th>\n",
              "      <th></th>\n",
              "      <th></th>\n",
              "      <th></th>\n",
              "      <th></th>\n",
              "      <th></th>\n",
              "      <th></th>\n",
              "      <th></th>\n",
              "      <th></th>\n",
              "      <th></th>\n",
              "      <th></th>\n",
              "      <th></th>\n",
              "      <th></th>\n",
              "      <th></th>\n",
              "      <th></th>\n",
              "      <th></th>\n",
              "    </tr>\n",
              "  </thead>\n",
              "  <tbody>\n",
              "    <tr>\n",
              "      <th>1201 WEI CHUAN</th>\n",
              "      <td>2023/12</td>\n",
              "      <td>4</td>\n",
              "      <td>Y</td>\n",
              "      <td>12</td>\n",
              "      <td>NTD</td>\n",
              "      <td>1667471.0</td>\n",
              "      <td>269087.0</td>\n",
              "      <td>0.0</td>\n",
              "      <td>0.0</td>\n",
              "      <td>0.0</td>\n",
              "      <td>...</td>\n",
              "      <td>0.0</td>\n",
              "      <td>0.0</td>\n",
              "      <td>-274237.0</td>\n",
              "      <td>0.0</td>\n",
              "      <td>7283944.0</td>\n",
              "      <td>0.0</td>\n",
              "      <td>0.0</td>\n",
              "      <td>8056.0</td>\n",
              "      <td>7292000.0</td>\n",
              "      <td>18027715.0</td>\n",
              "    </tr>\n",
              "    <tr>\n",
              "      <th>1216 Uni-President</th>\n",
              "      <td>2023/12</td>\n",
              "      <td>4</td>\n",
              "      <td>Y</td>\n",
              "      <td>12</td>\n",
              "      <td>NTD</td>\n",
              "      <td>100855846.0</td>\n",
              "      <td>10324562.0</td>\n",
              "      <td>0.0</td>\n",
              "      <td>16924454.0</td>\n",
              "      <td>0.0</td>\n",
              "      <td>...</td>\n",
              "      <td>0.0</td>\n",
              "      <td>0.0</td>\n",
              "      <td>-5789586.0</td>\n",
              "      <td>0.0</td>\n",
              "      <td>124887732.0</td>\n",
              "      <td>0.0</td>\n",
              "      <td>0.0</td>\n",
              "      <td>70326596.0</td>\n",
              "      <td>195214328.0</td>\n",
              "      <td>665879318.0</td>\n",
              "    </tr>\n",
              "  </tbody>\n",
              "</table>\n",
              "<p>2 rows × 111 columns</p>\n",
              "</div>\n",
              "    <div class=\"colab-df-buttons\">\n",
              "\n",
              "  <div class=\"colab-df-container\">\n",
              "    <button class=\"colab-df-convert\" onclick=\"convertToInteractive('df-eeed67a9-7f93-4b68-85b7-55c49750ef3d')\"\n",
              "            title=\"Convert this dataframe to an interactive table.\"\n",
              "            style=\"display:none;\">\n",
              "\n",
              "  <svg xmlns=\"http://www.w3.org/2000/svg\" height=\"24px\" viewBox=\"0 -960 960 960\">\n",
              "    <path d=\"M120-120v-720h720v720H120Zm60-500h600v-160H180v160Zm220 220h160v-160H400v160Zm0 220h160v-160H400v160ZM180-400h160v-160H180v160Zm440 0h160v-160H620v160ZM180-180h160v-160H180v160Zm440 0h160v-160H620v160Z\"/>\n",
              "  </svg>\n",
              "    </button>\n",
              "\n",
              "  <style>\n",
              "    .colab-df-container {\n",
              "      display:flex;\n",
              "      gap: 12px;\n",
              "    }\n",
              "\n",
              "    .colab-df-convert {\n",
              "      background-color: #E8F0FE;\n",
              "      border: none;\n",
              "      border-radius: 50%;\n",
              "      cursor: pointer;\n",
              "      display: none;\n",
              "      fill: #1967D2;\n",
              "      height: 32px;\n",
              "      padding: 0 0 0 0;\n",
              "      width: 32px;\n",
              "    }\n",
              "\n",
              "    .colab-df-convert:hover {\n",
              "      background-color: #E2EBFA;\n",
              "      box-shadow: 0px 1px 2px rgba(60, 64, 67, 0.3), 0px 1px 3px 1px rgba(60, 64, 67, 0.15);\n",
              "      fill: #174EA6;\n",
              "    }\n",
              "\n",
              "    .colab-df-buttons div {\n",
              "      margin-bottom: 4px;\n",
              "    }\n",
              "\n",
              "    [theme=dark] .colab-df-convert {\n",
              "      background-color: #3B4455;\n",
              "      fill: #D2E3FC;\n",
              "    }\n",
              "\n",
              "    [theme=dark] .colab-df-convert:hover {\n",
              "      background-color: #434B5C;\n",
              "      box-shadow: 0px 1px 3px 1px rgba(0, 0, 0, 0.15);\n",
              "      filter: drop-shadow(0px 1px 2px rgba(0, 0, 0, 0.3));\n",
              "      fill: #FFFFFF;\n",
              "    }\n",
              "  </style>\n",
              "\n",
              "    <script>\n",
              "      const buttonEl =\n",
              "        document.querySelector('#df-eeed67a9-7f93-4b68-85b7-55c49750ef3d button.colab-df-convert');\n",
              "      buttonEl.style.display =\n",
              "        google.colab.kernel.accessAllowed ? 'block' : 'none';\n",
              "\n",
              "      async function convertToInteractive(key) {\n",
              "        const element = document.querySelector('#df-eeed67a9-7f93-4b68-85b7-55c49750ef3d');\n",
              "        const dataTable =\n",
              "          await google.colab.kernel.invokeFunction('convertToInteractive',\n",
              "                                                    [key], {});\n",
              "        if (!dataTable) return;\n",
              "\n",
              "        const docLinkHtml = 'Like what you see? Visit the ' +\n",
              "          '<a target=\"_blank\" href=https://colab.research.google.com/notebooks/data_table.ipynb>data table notebook</a>'\n",
              "          + ' to learn more about interactive tables.';\n",
              "        element.innerHTML = '';\n",
              "        dataTable['output_type'] = 'display_data';\n",
              "        await google.colab.output.renderOutput(dataTable, element);\n",
              "        const docLink = document.createElement('div');\n",
              "        docLink.innerHTML = docLinkHtml;\n",
              "        element.appendChild(docLink);\n",
              "      }\n",
              "    </script>\n",
              "  </div>\n",
              "\n",
              "\n",
              "<div id=\"df-19f34968-986b-4480-a0ef-5c7ebe6cb9be\">\n",
              "  <button class=\"colab-df-quickchart\" onclick=\"quickchart('df-19f34968-986b-4480-a0ef-5c7ebe6cb9be')\"\n",
              "            title=\"Suggest charts\"\n",
              "            style=\"display:none;\">\n",
              "\n",
              "<svg xmlns=\"http://www.w3.org/2000/svg\" height=\"24px\"viewBox=\"0 0 24 24\"\n",
              "     width=\"24px\">\n",
              "    <g>\n",
              "        <path d=\"M19 3H5c-1.1 0-2 .9-2 2v14c0 1.1.9 2 2 2h14c1.1 0 2-.9 2-2V5c0-1.1-.9-2-2-2zM9 17H7v-7h2v7zm4 0h-2V7h2v10zm4 0h-2v-4h2v4z\"/>\n",
              "    </g>\n",
              "</svg>\n",
              "  </button>\n",
              "\n",
              "<style>\n",
              "  .colab-df-quickchart {\n",
              "      --bg-color: #E8F0FE;\n",
              "      --fill-color: #1967D2;\n",
              "      --hover-bg-color: #E2EBFA;\n",
              "      --hover-fill-color: #174EA6;\n",
              "      --disabled-fill-color: #AAA;\n",
              "      --disabled-bg-color: #DDD;\n",
              "  }\n",
              "\n",
              "  [theme=dark] .colab-df-quickchart {\n",
              "      --bg-color: #3B4455;\n",
              "      --fill-color: #D2E3FC;\n",
              "      --hover-bg-color: #434B5C;\n",
              "      --hover-fill-color: #FFFFFF;\n",
              "      --disabled-bg-color: #3B4455;\n",
              "      --disabled-fill-color: #666;\n",
              "  }\n",
              "\n",
              "  .colab-df-quickchart {\n",
              "    background-color: var(--bg-color);\n",
              "    border: none;\n",
              "    border-radius: 50%;\n",
              "    cursor: pointer;\n",
              "    display: none;\n",
              "    fill: var(--fill-color);\n",
              "    height: 32px;\n",
              "    padding: 0;\n",
              "    width: 32px;\n",
              "  }\n",
              "\n",
              "  .colab-df-quickchart:hover {\n",
              "    background-color: var(--hover-bg-color);\n",
              "    box-shadow: 0 1px 2px rgba(60, 64, 67, 0.3), 0 1px 3px 1px rgba(60, 64, 67, 0.15);\n",
              "    fill: var(--button-hover-fill-color);\n",
              "  }\n",
              "\n",
              "  .colab-df-quickchart-complete:disabled,\n",
              "  .colab-df-quickchart-complete:disabled:hover {\n",
              "    background-color: var(--disabled-bg-color);\n",
              "    fill: var(--disabled-fill-color);\n",
              "    box-shadow: none;\n",
              "  }\n",
              "\n",
              "  .colab-df-spinner {\n",
              "    border: 2px solid var(--fill-color);\n",
              "    border-color: transparent;\n",
              "    border-bottom-color: var(--fill-color);\n",
              "    animation:\n",
              "      spin 1s steps(1) infinite;\n",
              "  }\n",
              "\n",
              "  @keyframes spin {\n",
              "    0% {\n",
              "      border-color: transparent;\n",
              "      border-bottom-color: var(--fill-color);\n",
              "      border-left-color: var(--fill-color);\n",
              "    }\n",
              "    20% {\n",
              "      border-color: transparent;\n",
              "      border-left-color: var(--fill-color);\n",
              "      border-top-color: var(--fill-color);\n",
              "    }\n",
              "    30% {\n",
              "      border-color: transparent;\n",
              "      border-left-color: var(--fill-color);\n",
              "      border-top-color: var(--fill-color);\n",
              "      border-right-color: var(--fill-color);\n",
              "    }\n",
              "    40% {\n",
              "      border-color: transparent;\n",
              "      border-right-color: var(--fill-color);\n",
              "      border-top-color: var(--fill-color);\n",
              "    }\n",
              "    60% {\n",
              "      border-color: transparent;\n",
              "      border-right-color: var(--fill-color);\n",
              "    }\n",
              "    80% {\n",
              "      border-color: transparent;\n",
              "      border-right-color: var(--fill-color);\n",
              "      border-bottom-color: var(--fill-color);\n",
              "    }\n",
              "    90% {\n",
              "      border-color: transparent;\n",
              "      border-bottom-color: var(--fill-color);\n",
              "    }\n",
              "  }\n",
              "</style>\n",
              "\n",
              "  <script>\n",
              "    async function quickchart(key) {\n",
              "      const quickchartButtonEl =\n",
              "        document.querySelector('#' + key + ' button');\n",
              "      quickchartButtonEl.disabled = true;  // To prevent multiple clicks.\n",
              "      quickchartButtonEl.classList.add('colab-df-spinner');\n",
              "      try {\n",
              "        const charts = await google.colab.kernel.invokeFunction(\n",
              "            'suggestCharts', [key], {});\n",
              "      } catch (error) {\n",
              "        console.error('Error during call to suggestCharts:', error);\n",
              "      }\n",
              "      quickchartButtonEl.classList.remove('colab-df-spinner');\n",
              "      quickchartButtonEl.classList.add('colab-df-quickchart-complete');\n",
              "    }\n",
              "    (() => {\n",
              "      let quickchartButtonEl =\n",
              "        document.querySelector('#df-19f34968-986b-4480-a0ef-5c7ebe6cb9be button');\n",
              "      quickchartButtonEl.style.display =\n",
              "        google.colab.kernel.accessAllowed ? 'block' : 'none';\n",
              "    })();\n",
              "  </script>\n",
              "</div>\n",
              "\n",
              "  <div id=\"id_2bddae4d-ac08-4c37-87ff-fa7a58e051ef\">\n",
              "    <style>\n",
              "      .colab-df-generate {\n",
              "        background-color: #E8F0FE;\n",
              "        border: none;\n",
              "        border-radius: 50%;\n",
              "        cursor: pointer;\n",
              "        display: none;\n",
              "        fill: #1967D2;\n",
              "        height: 32px;\n",
              "        padding: 0 0 0 0;\n",
              "        width: 32px;\n",
              "      }\n",
              "\n",
              "      .colab-df-generate:hover {\n",
              "        background-color: #E2EBFA;\n",
              "        box-shadow: 0px 1px 2px rgba(60, 64, 67, 0.3), 0px 1px 3px 1px rgba(60, 64, 67, 0.15);\n",
              "        fill: #174EA6;\n",
              "      }\n",
              "\n",
              "      [theme=dark] .colab-df-generate {\n",
              "        background-color: #3B4455;\n",
              "        fill: #D2E3FC;\n",
              "      }\n",
              "\n",
              "      [theme=dark] .colab-df-generate:hover {\n",
              "        background-color: #434B5C;\n",
              "        box-shadow: 0px 1px 3px 1px rgba(0, 0, 0, 0.15);\n",
              "        filter: drop-shadow(0px 1px 2px rgba(0, 0, 0, 0.3));\n",
              "        fill: #FFFFFF;\n",
              "      }\n",
              "    </style>\n",
              "    <button class=\"colab-df-generate\" onclick=\"generateWithVariable('url')\"\n",
              "            title=\"Generate code using this dataframe.\"\n",
              "            style=\"display:none;\">\n",
              "\n",
              "  <svg xmlns=\"http://www.w3.org/2000/svg\" height=\"24px\"viewBox=\"0 0 24 24\"\n",
              "       width=\"24px\">\n",
              "    <path d=\"M7,19H8.4L18.45,9,17,7.55,7,17.6ZM5,21V16.75L18.45,3.32a2,2,0,0,1,2.83,0l1.4,1.43a1.91,1.91,0,0,1,.58,1.4,1.91,1.91,0,0,1-.58,1.4L9.25,21ZM18.45,9,17,7.55Zm-12,3A5.31,5.31,0,0,0,4.9,8.1,5.31,5.31,0,0,0,1,6.5,5.31,5.31,0,0,0,4.9,4.9,5.31,5.31,0,0,0,6.5,1,5.31,5.31,0,0,0,8.1,4.9,5.31,5.31,0,0,0,12,6.5,5.46,5.46,0,0,0,6.5,12Z\"/>\n",
              "  </svg>\n",
              "    </button>\n",
              "    <script>\n",
              "      (() => {\n",
              "      const buttonEl =\n",
              "        document.querySelector('#id_2bddae4d-ac08-4c37-87ff-fa7a58e051ef button.colab-df-generate');\n",
              "      buttonEl.style.display =\n",
              "        google.colab.kernel.accessAllowed ? 'block' : 'none';\n",
              "\n",
              "      buttonEl.onclick = () => {\n",
              "        google.colab.notebook.generateWithVariable('url');\n",
              "      }\n",
              "      })();\n",
              "    </script>\n",
              "  </div>\n",
              "\n",
              "    </div>\n",
              "  </div>\n"
            ],
            "application/vnd.google.colaboratory.intrinsic+json": {
              "type": "dataframe",
              "variable_name": "url"
            }
          },
          "metadata": {},
          "execution_count": 1
        }
      ],
      "source": [
        "import pandas as pd\n",
        "url = \"https://raw.githubusercontent.com/fju410290051/fin_data/refs/heads/main/BalanceSheet_HW.csv\"\n",
        "url = df1 = pd.read_csv(url, index_col=0, encoding='unicode_escape')\n",
        "df1"
      ]
    },
    {
      "cell_type": "code",
      "source": [
        "url = \"https://raw.githubusercontent.com/fju410290051/fin_data/refs/heads/main/Income%20Statement_HW.csv\"\n",
        "df2 = pd.read_csv(url, index_col=0, encoding='unicode_escape')\n",
        "df2"
      ],
      "metadata": {
        "colab": {
          "base_uri": "https://localhost:8080/",
          "height": 331
        },
        "id": "iGyfqawDHdva",
        "outputId": "29701e53-7b7e-4687-a9ac-490361408378"
      },
      "execution_count": 2,
      "outputs": [
        {
          "output_type": "execute_result",
          "data": {
            "text/plain": [
              "                    YYYY/MM  Quarter consolidation  Month Currency  \\\n",
              "CO_ID                                                                \n",
              "1201 WEI CHUAN      2023/12        4             Y     12      NTD   \n",
              "1216 Uni-President  2023/12        4             Y     12      NTD   \n",
              "\n",
              "                    Gross operating revenue  Total rental revenue  \\\n",
              "CO_ID                                                               \n",
              "1201 WEI CHUAN                   21476354.0                   0.0   \n",
              "1216 Uni-President              581102935.0                   0.0   \n",
              "\n",
              "                    Operating revenue - Disposal of lands  Interest revenue  \\\n",
              "CO_ID                                                                         \n",
              "1201 WEI CHUAN                                        0.0               0.0   \n",
              "1216 Uni-President                                    0.0               0.0   \n",
              "\n",
              "                    Operating revenue - disposal of investments  ...  \\\n",
              "CO_ID                                                            ...   \n",
              "1201 WEI CHUAN                                              0.0  ...   \n",
              "1216 Uni-President                                          0.0  ...   \n",
              "\n",
              "                    Preferred stock dividends  Diluted net income  \\\n",
              "CO_ID                                                               \n",
              "1201 WEI CHUAN                            0.0            268323.0   \n",
              "1216 Uni-President                        0.0          18336478.0   \n",
              "\n",
              "                    Total diluted earnings per share  \\\n",
              "CO_ID                                                  \n",
              "1201 WEI CHUAN                                  0.53   \n",
              "1216 Uni-President                              3.21   \n",
              "\n",
              "                    Average diluted common shares (Thousand)  \\\n",
              "CO_ID                                                          \n",
              "1201 WEI CHUAN                                      506063.0   \n",
              "1216 Uni-President                                 5708710.0   \n",
              "\n",
              "                    Earnings before interest and tax  \\\n",
              "CO_ID                                                  \n",
              "1201 WEI CHUAN                              547619.0   \n",
              "1216 Uni-President                        52181738.0   \n",
              "\n",
              "                    Earnings before interest, tax, depreciation and amortization  \\\n",
              "CO_ID                                                                              \n",
              "1201 WEI CHUAN                                              1639092.0              \n",
              "1216 Uni-President                                         90972681.0              \n",
              "\n",
              "                    Recurring net income  Treasury shares-buys back  \\\n",
              "CO_ID                                                                 \n",
              "1201 WEI CHUAN                  319695.0                        0.0   \n",
              "1216 Uni-President            18996693.0                        0.0   \n",
              "\n",
              "                    Treasury shares-subsidiary holding  Total treasury shares  \n",
              "CO_ID                                                                          \n",
              "1201 WEI CHUAN                                     0.0                    0.0  \n",
              "1216 Uni-President                                 0.0                    0.0  \n",
              "\n",
              "[2 rows x 133 columns]"
            ],
            "text/html": [
              "\n",
              "  <div id=\"df-c95babe3-e79f-4d0f-99f6-b84d1b778962\" class=\"colab-df-container\">\n",
              "    <div>\n",
              "<style scoped>\n",
              "    .dataframe tbody tr th:only-of-type {\n",
              "        vertical-align: middle;\n",
              "    }\n",
              "\n",
              "    .dataframe tbody tr th {\n",
              "        vertical-align: top;\n",
              "    }\n",
              "\n",
              "    .dataframe thead th {\n",
              "        text-align: right;\n",
              "    }\n",
              "</style>\n",
              "<table border=\"1\" class=\"dataframe\">\n",
              "  <thead>\n",
              "    <tr style=\"text-align: right;\">\n",
              "      <th></th>\n",
              "      <th>YYYY/MM</th>\n",
              "      <th>Quarter</th>\n",
              "      <th>consolidation</th>\n",
              "      <th>Month</th>\n",
              "      <th>Currency</th>\n",
              "      <th>Gross operating revenue</th>\n",
              "      <th>Total rental revenue</th>\n",
              "      <th>Operating revenue - Disposal of lands</th>\n",
              "      <th>Interest revenue</th>\n",
              "      <th>Operating revenue - disposal of investments</th>\n",
              "      <th>...</th>\n",
              "      <th>Preferred stock dividends</th>\n",
              "      <th>Diluted net income</th>\n",
              "      <th>Total diluted earnings per share</th>\n",
              "      <th>Average diluted common shares (Thousand)</th>\n",
              "      <th>Earnings before interest and tax</th>\n",
              "      <th>Earnings before interest, tax, depreciation and amortization</th>\n",
              "      <th>Recurring net income</th>\n",
              "      <th>Treasury shares-buys back</th>\n",
              "      <th>Treasury shares-subsidiary holding</th>\n",
              "      <th>Total treasury shares</th>\n",
              "    </tr>\n",
              "    <tr>\n",
              "      <th>CO_ID</th>\n",
              "      <th></th>\n",
              "      <th></th>\n",
              "      <th></th>\n",
              "      <th></th>\n",
              "      <th></th>\n",
              "      <th></th>\n",
              "      <th></th>\n",
              "      <th></th>\n",
              "      <th></th>\n",
              "      <th></th>\n",
              "      <th></th>\n",
              "      <th></th>\n",
              "      <th></th>\n",
              "      <th></th>\n",
              "      <th></th>\n",
              "      <th></th>\n",
              "      <th></th>\n",
              "      <th></th>\n",
              "      <th></th>\n",
              "      <th></th>\n",
              "      <th></th>\n",
              "    </tr>\n",
              "  </thead>\n",
              "  <tbody>\n",
              "    <tr>\n",
              "      <th>1201 WEI CHUAN</th>\n",
              "      <td>2023/12</td>\n",
              "      <td>4</td>\n",
              "      <td>Y</td>\n",
              "      <td>12</td>\n",
              "      <td>NTD</td>\n",
              "      <td>21476354.0</td>\n",
              "      <td>0.0</td>\n",
              "      <td>0.0</td>\n",
              "      <td>0.0</td>\n",
              "      <td>0.0</td>\n",
              "      <td>...</td>\n",
              "      <td>0.0</td>\n",
              "      <td>268323.0</td>\n",
              "      <td>0.53</td>\n",
              "      <td>506063.0</td>\n",
              "      <td>547619.0</td>\n",
              "      <td>1639092.0</td>\n",
              "      <td>319695.0</td>\n",
              "      <td>0.0</td>\n",
              "      <td>0.0</td>\n",
              "      <td>0.0</td>\n",
              "    </tr>\n",
              "    <tr>\n",
              "      <th>1216 Uni-President</th>\n",
              "      <td>2023/12</td>\n",
              "      <td>4</td>\n",
              "      <td>Y</td>\n",
              "      <td>12</td>\n",
              "      <td>NTD</td>\n",
              "      <td>581102935.0</td>\n",
              "      <td>0.0</td>\n",
              "      <td>0.0</td>\n",
              "      <td>0.0</td>\n",
              "      <td>0.0</td>\n",
              "      <td>...</td>\n",
              "      <td>0.0</td>\n",
              "      <td>18336478.0</td>\n",
              "      <td>3.21</td>\n",
              "      <td>5708710.0</td>\n",
              "      <td>52181738.0</td>\n",
              "      <td>90972681.0</td>\n",
              "      <td>18996693.0</td>\n",
              "      <td>0.0</td>\n",
              "      <td>0.0</td>\n",
              "      <td>0.0</td>\n",
              "    </tr>\n",
              "  </tbody>\n",
              "</table>\n",
              "<p>2 rows × 133 columns</p>\n",
              "</div>\n",
              "    <div class=\"colab-df-buttons\">\n",
              "\n",
              "  <div class=\"colab-df-container\">\n",
              "    <button class=\"colab-df-convert\" onclick=\"convertToInteractive('df-c95babe3-e79f-4d0f-99f6-b84d1b778962')\"\n",
              "            title=\"Convert this dataframe to an interactive table.\"\n",
              "            style=\"display:none;\">\n",
              "\n",
              "  <svg xmlns=\"http://www.w3.org/2000/svg\" height=\"24px\" viewBox=\"0 -960 960 960\">\n",
              "    <path d=\"M120-120v-720h720v720H120Zm60-500h600v-160H180v160Zm220 220h160v-160H400v160Zm0 220h160v-160H400v160ZM180-400h160v-160H180v160Zm440 0h160v-160H620v160ZM180-180h160v-160H180v160Zm440 0h160v-160H620v160Z\"/>\n",
              "  </svg>\n",
              "    </button>\n",
              "\n",
              "  <style>\n",
              "    .colab-df-container {\n",
              "      display:flex;\n",
              "      gap: 12px;\n",
              "    }\n",
              "\n",
              "    .colab-df-convert {\n",
              "      background-color: #E8F0FE;\n",
              "      border: none;\n",
              "      border-radius: 50%;\n",
              "      cursor: pointer;\n",
              "      display: none;\n",
              "      fill: #1967D2;\n",
              "      height: 32px;\n",
              "      padding: 0 0 0 0;\n",
              "      width: 32px;\n",
              "    }\n",
              "\n",
              "    .colab-df-convert:hover {\n",
              "      background-color: #E2EBFA;\n",
              "      box-shadow: 0px 1px 2px rgba(60, 64, 67, 0.3), 0px 1px 3px 1px rgba(60, 64, 67, 0.15);\n",
              "      fill: #174EA6;\n",
              "    }\n",
              "\n",
              "    .colab-df-buttons div {\n",
              "      margin-bottom: 4px;\n",
              "    }\n",
              "\n",
              "    [theme=dark] .colab-df-convert {\n",
              "      background-color: #3B4455;\n",
              "      fill: #D2E3FC;\n",
              "    }\n",
              "\n",
              "    [theme=dark] .colab-df-convert:hover {\n",
              "      background-color: #434B5C;\n",
              "      box-shadow: 0px 1px 3px 1px rgba(0, 0, 0, 0.15);\n",
              "      filter: drop-shadow(0px 1px 2px rgba(0, 0, 0, 0.3));\n",
              "      fill: #FFFFFF;\n",
              "    }\n",
              "  </style>\n",
              "\n",
              "    <script>\n",
              "      const buttonEl =\n",
              "        document.querySelector('#df-c95babe3-e79f-4d0f-99f6-b84d1b778962 button.colab-df-convert');\n",
              "      buttonEl.style.display =\n",
              "        google.colab.kernel.accessAllowed ? 'block' : 'none';\n",
              "\n",
              "      async function convertToInteractive(key) {\n",
              "        const element = document.querySelector('#df-c95babe3-e79f-4d0f-99f6-b84d1b778962');\n",
              "        const dataTable =\n",
              "          await google.colab.kernel.invokeFunction('convertToInteractive',\n",
              "                                                    [key], {});\n",
              "        if (!dataTable) return;\n",
              "\n",
              "        const docLinkHtml = 'Like what you see? Visit the ' +\n",
              "          '<a target=\"_blank\" href=https://colab.research.google.com/notebooks/data_table.ipynb>data table notebook</a>'\n",
              "          + ' to learn more about interactive tables.';\n",
              "        element.innerHTML = '';\n",
              "        dataTable['output_type'] = 'display_data';\n",
              "        await google.colab.output.renderOutput(dataTable, element);\n",
              "        const docLink = document.createElement('div');\n",
              "        docLink.innerHTML = docLinkHtml;\n",
              "        element.appendChild(docLink);\n",
              "      }\n",
              "    </script>\n",
              "  </div>\n",
              "\n",
              "\n",
              "<div id=\"df-5863caf2-9811-4259-9217-6ca92d06fa3c\">\n",
              "  <button class=\"colab-df-quickchart\" onclick=\"quickchart('df-5863caf2-9811-4259-9217-6ca92d06fa3c')\"\n",
              "            title=\"Suggest charts\"\n",
              "            style=\"display:none;\">\n",
              "\n",
              "<svg xmlns=\"http://www.w3.org/2000/svg\" height=\"24px\"viewBox=\"0 0 24 24\"\n",
              "     width=\"24px\">\n",
              "    <g>\n",
              "        <path d=\"M19 3H5c-1.1 0-2 .9-2 2v14c0 1.1.9 2 2 2h14c1.1 0 2-.9 2-2V5c0-1.1-.9-2-2-2zM9 17H7v-7h2v7zm4 0h-2V7h2v10zm4 0h-2v-4h2v4z\"/>\n",
              "    </g>\n",
              "</svg>\n",
              "  </button>\n",
              "\n",
              "<style>\n",
              "  .colab-df-quickchart {\n",
              "      --bg-color: #E8F0FE;\n",
              "      --fill-color: #1967D2;\n",
              "      --hover-bg-color: #E2EBFA;\n",
              "      --hover-fill-color: #174EA6;\n",
              "      --disabled-fill-color: #AAA;\n",
              "      --disabled-bg-color: #DDD;\n",
              "  }\n",
              "\n",
              "  [theme=dark] .colab-df-quickchart {\n",
              "      --bg-color: #3B4455;\n",
              "      --fill-color: #D2E3FC;\n",
              "      --hover-bg-color: #434B5C;\n",
              "      --hover-fill-color: #FFFFFF;\n",
              "      --disabled-bg-color: #3B4455;\n",
              "      --disabled-fill-color: #666;\n",
              "  }\n",
              "\n",
              "  .colab-df-quickchart {\n",
              "    background-color: var(--bg-color);\n",
              "    border: none;\n",
              "    border-radius: 50%;\n",
              "    cursor: pointer;\n",
              "    display: none;\n",
              "    fill: var(--fill-color);\n",
              "    height: 32px;\n",
              "    padding: 0;\n",
              "    width: 32px;\n",
              "  }\n",
              "\n",
              "  .colab-df-quickchart:hover {\n",
              "    background-color: var(--hover-bg-color);\n",
              "    box-shadow: 0 1px 2px rgba(60, 64, 67, 0.3), 0 1px 3px 1px rgba(60, 64, 67, 0.15);\n",
              "    fill: var(--button-hover-fill-color);\n",
              "  }\n",
              "\n",
              "  .colab-df-quickchart-complete:disabled,\n",
              "  .colab-df-quickchart-complete:disabled:hover {\n",
              "    background-color: var(--disabled-bg-color);\n",
              "    fill: var(--disabled-fill-color);\n",
              "    box-shadow: none;\n",
              "  }\n",
              "\n",
              "  .colab-df-spinner {\n",
              "    border: 2px solid var(--fill-color);\n",
              "    border-color: transparent;\n",
              "    border-bottom-color: var(--fill-color);\n",
              "    animation:\n",
              "      spin 1s steps(1) infinite;\n",
              "  }\n",
              "\n",
              "  @keyframes spin {\n",
              "    0% {\n",
              "      border-color: transparent;\n",
              "      border-bottom-color: var(--fill-color);\n",
              "      border-left-color: var(--fill-color);\n",
              "    }\n",
              "    20% {\n",
              "      border-color: transparent;\n",
              "      border-left-color: var(--fill-color);\n",
              "      border-top-color: var(--fill-color);\n",
              "    }\n",
              "    30% {\n",
              "      border-color: transparent;\n",
              "      border-left-color: var(--fill-color);\n",
              "      border-top-color: var(--fill-color);\n",
              "      border-right-color: var(--fill-color);\n",
              "    }\n",
              "    40% {\n",
              "      border-color: transparent;\n",
              "      border-right-color: var(--fill-color);\n",
              "      border-top-color: var(--fill-color);\n",
              "    }\n",
              "    60% {\n",
              "      border-color: transparent;\n",
              "      border-right-color: var(--fill-color);\n",
              "    }\n",
              "    80% {\n",
              "      border-color: transparent;\n",
              "      border-right-color: var(--fill-color);\n",
              "      border-bottom-color: var(--fill-color);\n",
              "    }\n",
              "    90% {\n",
              "      border-color: transparent;\n",
              "      border-bottom-color: var(--fill-color);\n",
              "    }\n",
              "  }\n",
              "</style>\n",
              "\n",
              "  <script>\n",
              "    async function quickchart(key) {\n",
              "      const quickchartButtonEl =\n",
              "        document.querySelector('#' + key + ' button');\n",
              "      quickchartButtonEl.disabled = true;  // To prevent multiple clicks.\n",
              "      quickchartButtonEl.classList.add('colab-df-spinner');\n",
              "      try {\n",
              "        const charts = await google.colab.kernel.invokeFunction(\n",
              "            'suggestCharts', [key], {});\n",
              "      } catch (error) {\n",
              "        console.error('Error during call to suggestCharts:', error);\n",
              "      }\n",
              "      quickchartButtonEl.classList.remove('colab-df-spinner');\n",
              "      quickchartButtonEl.classList.add('colab-df-quickchart-complete');\n",
              "    }\n",
              "    (() => {\n",
              "      let quickchartButtonEl =\n",
              "        document.querySelector('#df-5863caf2-9811-4259-9217-6ca92d06fa3c button');\n",
              "      quickchartButtonEl.style.display =\n",
              "        google.colab.kernel.accessAllowed ? 'block' : 'none';\n",
              "    })();\n",
              "  </script>\n",
              "</div>\n",
              "\n",
              "  <div id=\"id_561d2306-bdc9-4821-8a82-a619654e4fd6\">\n",
              "    <style>\n",
              "      .colab-df-generate {\n",
              "        background-color: #E8F0FE;\n",
              "        border: none;\n",
              "        border-radius: 50%;\n",
              "        cursor: pointer;\n",
              "        display: none;\n",
              "        fill: #1967D2;\n",
              "        height: 32px;\n",
              "        padding: 0 0 0 0;\n",
              "        width: 32px;\n",
              "      }\n",
              "\n",
              "      .colab-df-generate:hover {\n",
              "        background-color: #E2EBFA;\n",
              "        box-shadow: 0px 1px 2px rgba(60, 64, 67, 0.3), 0px 1px 3px 1px rgba(60, 64, 67, 0.15);\n",
              "        fill: #174EA6;\n",
              "      }\n",
              "\n",
              "      [theme=dark] .colab-df-generate {\n",
              "        background-color: #3B4455;\n",
              "        fill: #D2E3FC;\n",
              "      }\n",
              "\n",
              "      [theme=dark] .colab-df-generate:hover {\n",
              "        background-color: #434B5C;\n",
              "        box-shadow: 0px 1px 3px 1px rgba(0, 0, 0, 0.15);\n",
              "        filter: drop-shadow(0px 1px 2px rgba(0, 0, 0, 0.3));\n",
              "        fill: #FFFFFF;\n",
              "      }\n",
              "    </style>\n",
              "    <button class=\"colab-df-generate\" onclick=\"generateWithVariable('df2')\"\n",
              "            title=\"Generate code using this dataframe.\"\n",
              "            style=\"display:none;\">\n",
              "\n",
              "  <svg xmlns=\"http://www.w3.org/2000/svg\" height=\"24px\"viewBox=\"0 0 24 24\"\n",
              "       width=\"24px\">\n",
              "    <path d=\"M7,19H8.4L18.45,9,17,7.55,7,17.6ZM5,21V16.75L18.45,3.32a2,2,0,0,1,2.83,0l1.4,1.43a1.91,1.91,0,0,1,.58,1.4,1.91,1.91,0,0,1-.58,1.4L9.25,21ZM18.45,9,17,7.55Zm-12,3A5.31,5.31,0,0,0,4.9,8.1,5.31,5.31,0,0,0,1,6.5,5.31,5.31,0,0,0,4.9,4.9,5.31,5.31,0,0,0,6.5,1,5.31,5.31,0,0,0,8.1,4.9,5.31,5.31,0,0,0,12,6.5,5.46,5.46,0,0,0,6.5,12Z\"/>\n",
              "  </svg>\n",
              "    </button>\n",
              "    <script>\n",
              "      (() => {\n",
              "      const buttonEl =\n",
              "        document.querySelector('#id_561d2306-bdc9-4821-8a82-a619654e4fd6 button.colab-df-generate');\n",
              "      buttonEl.style.display =\n",
              "        google.colab.kernel.accessAllowed ? 'block' : 'none';\n",
              "\n",
              "      buttonEl.onclick = () => {\n",
              "        google.colab.notebook.generateWithVariable('df2');\n",
              "      }\n",
              "      })();\n",
              "    </script>\n",
              "  </div>\n",
              "\n",
              "    </div>\n",
              "  </div>\n"
            ],
            "application/vnd.google.colaboratory.intrinsic+json": {
              "type": "dataframe",
              "variable_name": "df2"
            }
          },
          "metadata": {},
          "execution_count": 2
        }
      ]
    },
    {
      "cell_type": "code",
      "source": [
        "X1 ='Total current assets'\n",
        "X2 ='Total current liabilities'\n",
        "X3 ='Total assets'\n",
        "X4 ='Total retained earnings'\n",
        "X5 ='Earnings before interest and tax'\n",
        "X6 ='Total equity'\n",
        "X7 ='Total liabilities'\n",
        "X8 ='Total operating revenue'\n",
        "WC ='1201 WEI CHUAN'\n",
        "UP ='1216 Uni-President'"
      ],
      "metadata": {
        "id": "ML9T_47hHleb"
      },
      "execution_count": 3,
      "outputs": []
    },
    {
      "cell_type": "code",
      "source": [
        "A_WC = (df1.loc[WC,X1] - df1.loc[WC,X2])/df1.loc[WC, X3]\n",
        "B_WC = df1.loc[WC,X4]/df1.loc[WC,X3]\n",
        "C_WC = df2.loc[WC,X5]/df1.loc[WC,X3]\n",
        "D_WC = df1.loc[WC,X6]/df1.loc[WC,X7]\n",
        "E_WC = df2.loc[WC,X8]/df1.loc[WC,X3]"
      ],
      "metadata": {
        "id": "bdt8j7t1Hqen"
      },
      "execution_count": 4,
      "outputs": []
    },
    {
      "cell_type": "code",
      "source": [
        "A_WC"
      ],
      "metadata": {
        "colab": {
          "base_uri": "https://localhost:8080/"
        },
        "id": "8Pa2ujC6H0WR",
        "outputId": "86eb401e-c385-4be9-e0c3-c597008c2eac"
      },
      "execution_count": 5,
      "outputs": [
        {
          "output_type": "execute_result",
          "data": {
            "text/plain": [
              "-0.0202016728132212"
            ]
          },
          "metadata": {},
          "execution_count": 5
        }
      ]
    },
    {
      "cell_type": "code",
      "source": [
        "B_WC"
      ],
      "metadata": {
        "colab": {
          "base_uri": "https://localhost:8080/"
        },
        "id": "CcchxuqbH2jN",
        "outputId": "66bfbe84-46b1-46e0-8b45-de1a152593f1"
      },
      "execution_count": 6,
      "outputs": [
        {
          "output_type": "execute_result",
          "data": {
            "text/plain": [
              "0.1365362720677579"
            ]
          },
          "metadata": {},
          "execution_count": 6
        }
      ]
    },
    {
      "cell_type": "code",
      "source": [
        "C_WC"
      ],
      "metadata": {
        "colab": {
          "base_uri": "https://localhost:8080/"
        },
        "id": "szAogWzEH7Qh",
        "outputId": "9331ba45-238a-4e96-8215-f943321d5ccf"
      },
      "execution_count": 7,
      "outputs": [
        {
          "output_type": "execute_result",
          "data": {
            "text/plain": [
              "0.030376506395846617"
            ]
          },
          "metadata": {},
          "execution_count": 7
        }
      ]
    },
    {
      "cell_type": "code",
      "source": [
        "D_WC"
      ],
      "metadata": {
        "colab": {
          "base_uri": "https://localhost:8080/"
        },
        "id": "9XGrPHNFH9wj",
        "outputId": "bafbfaa8-c089-4192-b1ff-190bde6a371c"
      },
      "execution_count": 8,
      "outputs": [
        {
          "output_type": "execute_result",
          "data": {
            "text/plain": [
              "0.6792281650546796"
            ]
          },
          "metadata": {},
          "execution_count": 8
        }
      ]
    },
    {
      "cell_type": "code",
      "source": [
        "E_WC"
      ],
      "metadata": {
        "colab": {
          "base_uri": "https://localhost:8080/"
        },
        "id": "IhKT2nglIAOv",
        "outputId": "b6e70667-e311-4eae-b699-4c0217bae313"
      },
      "execution_count": 9,
      "outputs": [
        {
          "output_type": "execute_result",
          "data": {
            "text/plain": [
              "1.1912965120648957"
            ]
          },
          "metadata": {},
          "execution_count": 9
        }
      ]
    },
    {
      "cell_type": "code",
      "source": [
        "Z_score_WC = 1.2*A_WC + 1.4*B_WC + 3.3*C_WC + 0.6*D_WC+1.0*E_WC"
      ],
      "metadata": {
        "id": "oTy1WTCMIC87"
      },
      "execution_count": 10,
      "outputs": []
    },
    {
      "cell_type": "code",
      "source": [
        "Z_score_WC"
      ],
      "metadata": {
        "colab": {
          "base_uri": "https://localhost:8080/"
        },
        "id": "s4EEpl1oIFVL",
        "outputId": "cc3f9f14-b36c-4805-9c09-baa62dcacd8f"
      },
      "execution_count": 11,
      "outputs": [
        {
          "output_type": "execute_result",
          "data": {
            "text/plain": [
              "1.8659846557229929"
            ]
          },
          "metadata": {},
          "execution_count": 11
        }
      ]
    },
    {
      "cell_type": "code",
      "source": [
        "A_UP = (df1.loc[UP,X1] - df1.loc[UP,X2])/df1.loc[UP, X3]\n",
        "B_UP = df1.loc[UP,X4]/df1.loc[UP,X3]\n",
        "C_UP = df2.loc[UP,X5]/df1.loc[UP,X3]\n",
        "D_UP = df1.loc[UP,X6]/df1.loc[UP,X7]\n",
        "E_UP = df2.loc[UP,X8]/df1.loc[UP,X3]"
      ],
      "metadata": {
        "id": "Zm0oyrt-IHsz"
      },
      "execution_count": 12,
      "outputs": []
    },
    {
      "cell_type": "code",
      "source": [
        "A_UP"
      ],
      "metadata": {
        "colab": {
          "base_uri": "https://localhost:8080/"
        },
        "id": "7W0gM_8aITCz",
        "outputId": "8de2d29c-d5cf-4596-ad2f-b1acb5d1efd1"
      },
      "execution_count": 13,
      "outputs": [
        {
          "output_type": "execute_result",
          "data": {
            "text/plain": [
              "-0.010039850794705115"
            ]
          },
          "metadata": {},
          "execution_count": 13
        }
      ]
    },
    {
      "cell_type": "code",
      "source": [
        "B_UP"
      ],
      "metadata": {
        "colab": {
          "base_uri": "https://localhost:8080/"
        },
        "id": "UEjpcrCbIV2B",
        "outputId": "b38bb9c8-e65e-419e-b1fa-6d47c9b1140f"
      },
      "execution_count": 14,
      "outputs": [
        {
          "output_type": "execute_result",
          "data": {
            "text/plain": [
              "0.10674070823145763"
            ]
          },
          "metadata": {},
          "execution_count": 14
        }
      ]
    },
    {
      "cell_type": "code",
      "source": [
        "C_UP"
      ],
      "metadata": {
        "colab": {
          "base_uri": "https://localhost:8080/"
        },
        "id": "8sX2DQjvIXbE",
        "outputId": "c63c0cc3-1600-4b50-bbc6-05f4200e8001"
      },
      "execution_count": 15,
      "outputs": [
        {
          "output_type": "execute_result",
          "data": {
            "text/plain": [
              "0.07836515805406048"
            ]
          },
          "metadata": {},
          "execution_count": 15
        }
      ]
    },
    {
      "cell_type": "code",
      "source": [
        "D_UP"
      ],
      "metadata": {
        "colab": {
          "base_uri": "https://localhost:8080/"
        },
        "id": "tvyQy9oVIZcX",
        "outputId": "16e7657e-e1a2-4a7b-dc13-f46743b07e48"
      },
      "execution_count": 16,
      "outputs": [
        {
          "output_type": "execute_result",
          "data": {
            "text/plain": [
              "0.4147627976323457"
            ]
          },
          "metadata": {},
          "execution_count": 16
        }
      ]
    },
    {
      "cell_type": "code",
      "source": [
        "E_UP"
      ],
      "metadata": {
        "colab": {
          "base_uri": "https://localhost:8080/"
        },
        "id": "vNYjnD9lIbbd",
        "outputId": "63527d7a-bd76-4eb8-8594-350870a8e616"
      },
      "execution_count": 17,
      "outputs": [
        {
          "output_type": "execute_result",
          "data": {
            "text/plain": [
              "0.8726850636319058"
            ]
          },
          "metadata": {},
          "execution_count": 17
        }
      ]
    },
    {
      "cell_type": "code",
      "source": [
        "Z_score_UP = 1.2*A_UP + 1.4*B_UP + 3.3*C_UP + 0.6*D_UP+1.0*E_UP"
      ],
      "metadata": {
        "id": "pwTndMxkIfvZ"
      },
      "execution_count": 18,
      "outputs": []
    },
    {
      "cell_type": "code",
      "source": [
        "Z_score_UP"
      ],
      "metadata": {
        "colab": {
          "base_uri": "https://localhost:8080/"
        },
        "id": "EZYbKr_PIiVt",
        "outputId": "22a90435-b032-49a0-861e-34dfd5ec8a57"
      },
      "execution_count": 19,
      "outputs": [
        {
          "output_type": "execute_result",
          "data": {
            "text/plain": [
              "1.5175369343601073"
            ]
          },
          "metadata": {},
          "execution_count": 19
        }
      ]
    }
  ]
}